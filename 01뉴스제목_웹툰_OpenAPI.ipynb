{
 "cells": [
  {
   "cell_type": "markdown",
   "id": "eb0bfa44",
   "metadata": {},
   "source": [
    "## 1. 뉴스제목 가져오기\n",
    "* user-agent 요청헤더를 반드시 설정해야 한다."
   ]
  },
  {
   "cell_type": "code",
   "execution_count": 1,
   "id": "f0d27781",
   "metadata": {},
   "outputs": [
    {
     "name": "stdout",
     "output_type": "stream",
     "text": [
      "Name: requests\n",
      "Version: 2.32.3\n",
      "Summary: Python HTTP for Humans.\n",
      "Home-page: https://requests.readthedocs.io\n",
      "Author: Kenneth Reitz\n",
      "Author-email: me@kennethreitz.org\n",
      "License: Apache-2.0\n",
      "Location: c:\\Users\\user\\anaconda3\\Lib\\site-packages\n",
      "Requires: certifi, charset-normalizer, idna, urllib3\n",
      "Required-by: anaconda-catalogs, anaconda-client, anaconda-cloud-auth, anaconda-project, conda, conda-build, conda-repo-cli, conda_package_streaming, cookiecutter, datashader, jupyterlab_server, panel, requests-file, requests-toolbelt, Sphinx, streamlit, tldextract\n",
      "Note: you may need to restart the kernel to use updated packages.\n"
     ]
    }
   ],
   "source": [
    "# requests 라이브러리 설치여부 확인\n",
    "%pip show requests"
   ]
  },
  {
   "cell_type": "code",
   "execution_count": 2,
   "id": "f7798ea8",
   "metadata": {},
   "outputs": [
    {
     "name": "stdout",
     "output_type": "stream",
     "text": [
      "Name: beautifulsoup4\n",
      "Version: 4.12.3\n",
      "Summary: Screen-scraping library\n",
      "Home-page: https://www.crummy.com/software/BeautifulSoup/bs4/\n",
      "Author: \n",
      "Author-email: Leonard Richardson <leonardr@segfault.org>\n",
      "License: MIT License\n",
      "Location: c:\\Users\\user\\anaconda3\\Lib\\site-packages\n",
      "Requires: soupsieve\n",
      "Required-by: conda-build, nbconvert\n",
      "Note: you may need to restart the kernel to use updated packages.\n"
     ]
    }
   ],
   "source": [
    "# beautifulsoup4 라이브러리 설치여부 확인\n",
    "%pip show beautifulsoup4"
   ]
  },
  {
   "cell_type": "code",
   "execution_count": 12,
   "id": "bf80a429",
   "metadata": {},
   "outputs": [],
   "source": [
    "# reqeusts, bs4 import\n",
    "import requests as req\n",
    "import bs4\n",
    "# BeautifulSoup 클래스 import\n",
    "from bs4 import BeautifulSoup"
   ]
  },
  {
   "cell_type": "code",
   "execution_count": 13,
   "id": "9788d6ac",
   "metadata": {},
   "outputs": [
    {
     "name": "stdout",
     "output_type": "stream",
     "text": [
      "requests 버전 2.32.3\n",
      "beautifulsoup4 버전 4.12.3\n"
     ]
    }
   ],
   "source": [
    "# requests, bs4 버전 확인하기\n",
    "print(f'requests 버전 {req.__version__}')\n",
    "print(f'beautifulsoup4 버전 {bs4.__version__}')"
   ]
  },
  {
   "cell_type": "markdown",
   "id": "ccb91def-cde3-4aeb-b0e5-2e7233500333",
   "metadata": {},
   "source": [
    "### 1. 뉴스 제목 추출하기"
   ]
  },
  {
   "cell_type": "code",
   "execution_count": null,
   "id": "94c12fd6",
   "metadata": {},
   "outputs": [
    {
     "name": "stdout",
     "output_type": "stream",
     "text": [
      "https://news.naver.com/section/105\n",
      "<Response [200]>\n",
      "<class 'requests.models.Response'>\n",
      "200 True\n",
      "88\n",
      "<class 'bs4.element.ResultSet'>\n",
      "https://n.news.naver.com/mnews/article/015/0005116490 \"영락없는 자녀 목소린데\"…AI 보이스피싱, AI로 방지\n",
      "https://n.news.naver.com/mnews/article/comment/015/0005116490 \n",
      "https://n.news.naver.com/mnews/article/030/0003301485 델, AI 레디 데이터센터 위한 인프라 솔루션 신제품 공개\n",
      "https://n.news.naver.com/mnews/article/comment/030/0003301485 \n",
      "https://n.news.naver.com/mnews/article/421/0008180853 뤼튼 \"쓸수록 돈버는 무료 AI모델 지향…편의점 등 30여곳 제휴\"\n",
      "https://n.news.naver.com/mnews/article/comment/421/0008180853 \n",
      "https://n.news.naver.com/mnews/article/021/0002701684 중국 ‘딥시크 굴기’… 미국과 AI격차 1.7%로 추격\n",
      "https://n.news.naver.com/mnews/article/comment/021/0002701684 \n",
      "https://n.news.naver.com/mnews/article/003/0013171755 아이브·아이유 소속사 주인 바뀌나…카카오, 카카오엔터 매각 추진\n",
      "https://n.news.naver.com/mnews/article/comment/003/0013171755 \n",
      "https://n.news.naver.com/mnews/article/032/0003361960 악성 스팸문자, 발송단계에서 ‘X-ray’로 차단한다\n",
      "https://n.news.naver.com/mnews/article/comment/032/0003361960 \n",
      "https://n.news.naver.com/mnews/article/015/0005116602 갤럭시S25 '깜짝 신기능'…화면 비추면서 AI와 실시간 대화\n",
      "https://n.news.naver.com/mnews/article/comment/015/0005116602 \n",
      "https://n.news.naver.com/mnews/article/001/0015317380 화학·금속·세라믹·섬유 등 공공데이터 300만건, 민간에 개방\n",
      "https://n.news.naver.com/mnews/article/comment/001/0015317380 \n",
      "https://n.news.naver.com/mnews/article/023/0003898386 위기의 세계 경제… 제약·바이오, 금융·재무통 잇단 영입\n",
      "https://n.news.naver.com/mnews/article/comment/023/0003898386 \n",
      "https://n.news.naver.com/mnews/article/629/0000380351 네이버 AI 쇼핑, 시장 진입은 성공…경험 혁신은 '글쎄'\n",
      "https://n.news.naver.com/mnews/article/comment/629/0000380351 \n",
      "https://n.news.naver.com/mnews/article/366/0001067724 세계 첫 정자 생성 줄기세포 치료법 임상 시험, 남성 불임 치료 목표\n",
      "https://n.news.naver.com/mnews/article/comment/366/0001067724 \n",
      "https://n.news.naver.com/mnews/article/031/0000922983 마이크론 \"9일부터 메모리 모듈 관세 할증 부과\"…삼성·하이닉스는?\n",
      "https://n.news.naver.com/mnews/article/comment/031/0000922983 \n",
      "https://n.news.naver.com/mnews/article/031/0000922967 마침내 ISS 도착 한국계 미국인 조니 김 \"여기는 우주\" [지금은 우주]\n",
      "https://n.news.naver.com/mnews/article/comment/031/0000922967 \n",
      "https://n.news.naver.com/mnews/article/025/0003432797 \"아빠, 20살때 몇 ㎏였어?\"…심장마비 위험 5분만에 아는 법\n",
      "https://n.news.naver.com/mnews/article/comment/025/0003432797 \n",
      "https://n.news.naver.com/mnews/article/016/0002454521 “드디어 나온다” ‘65만원’ 짜리 게임기에 아재들도 ‘난리’…뭐길래\n",
      "https://n.news.naver.com/mnews/article/comment/016/0002454521 \n",
      "https://n.news.naver.com/mnews/article/001/0015318359 존슨 전 영국 총리, 미국 여행 중 '타조 공격' 봉변\n",
      "https://n.news.naver.com/mnews/article/comment/001/0015318359 \n",
      "https://n.news.naver.com/mnews/article/003/0013171755 아이브·아이유 소속사 주인 바뀌나…카카오, 카카오엔터 매각 추진\n",
      "https://n.news.naver.com/mnews/article/comment/003/0013171755 \n",
      "https://n.news.naver.com/mnews/article/029/0002946813 `RF 온라인 넥스트` 흥행에 출발 좋은 넷마블...`왕좌의 게임`으로 `굳히기`\n",
      "https://n.news.naver.com/mnews/article/comment/029/0002946813 \n",
      "https://n.news.naver.com/mnews/article/008/0005177712 카카오, '아픈 손가락' 카카오엔터 매각 추진\n",
      "https://n.news.naver.com/mnews/article/comment/008/0005177712 \n",
      "https://n.news.naver.com/mnews/article/029/0002946804 의정갈등에 `새우등 처지` 제약업계, 尹 파면에 \"정상화 기대\"\n",
      "https://n.news.naver.com/mnews/article/comment/029/0002946804 \n",
      "https://n.news.naver.com/mnews/article/016/0002454498 “이건 너무 심했다” 발칵 뒤집힌 애플…쏟아지는 뭇매에 결국\n",
      "https://n.news.naver.com/mnews/article/comment/016/0002454498 \n",
      "https://n.news.naver.com/mnews/article/030/0003301461 SK그룹, SK실트론 매각 추진\n",
      "https://n.news.naver.com/mnews/article/comment/030/0003301461 \n",
      "https://n.news.naver.com/mnews/article/015/0005116736 50만원짜리가 수억원으로 '변신'…한국도 뛰어들었다 [긱스]\n",
      "https://n.news.naver.com/mnews/article/comment/015/0005116736 \n",
      "https://n.news.naver.com/mnews/article/015/0005116734 \"수백 대 GPU 서버 효율적 관리…최적의 AI 연구개발 환경 만든다\" [긱스]\n",
      "https://n.news.naver.com/mnews/article/comment/015/0005116734 \n",
      "https://n.news.naver.com/mnews/article/015/0005116731 \"돈도 못 벌면서\" 구박 받던 당근…드디어 돈 벌었다 [긱스]\n",
      "https://n.news.naver.com/mnews/article/comment/015/0005116731 \n",
      "https://n.news.naver.com/mnews/article/029/0002946789 AI가 바꾼 검색 풍경… 이젠 키워드 말고 사진 `찰칵`\n",
      "https://n.news.naver.com/mnews/article/comment/029/0002946789 \n",
      "https://n.news.naver.com/mnews/article/031/0000922940 \"애플, 美 관세 피해 중국 아닌 인도서 아이폰 생산 늘린다\"\n",
      "https://n.news.naver.com/mnews/article/comment/031/0000922940 \n",
      "https://n.news.naver.com/mnews/article/011/0004471741 기술력이 자산이 되지 못하는 나라 [기자의눈]\n",
      "https://n.news.naver.com/mnews/article/comment/011/0004471741 \n",
      "https://n.news.naver.com/mnews/article/014/0005333061 ‘갤S25’ MX사업부, 호실적 이끌어... 악재산적 2분기 ‘엣지’ 판매량 관건[삼성전자 '트럼프 변수' 긴장]\n",
      "https://n.news.naver.com/mnews/article/comment/014/0005333061 \n",
      "https://n.news.naver.com/mnews/article/031/0000922930 찜솥 더위·높은 습도 견디는 고효율 태양전지 나온다 [지금은 과학]\n",
      "https://n.news.naver.com/mnews/article/comment/031/0000922930 \n",
      "https://n.news.naver.com/mnews/article/020/0003626869 GM “SDV 시대 준비 박차·슈퍼크루즈 20개 모델 이상 적용 완료”\n",
      "https://n.news.naver.com/mnews/article/comment/020/0003626869 \n",
      "https://n.news.naver.com/mnews/article/366/0001067701 2분짜리 영상도 뚝딱… 불붙은 아마존·오픈AI·구글 영상 AI 경쟁\n",
      "https://n.news.naver.com/mnews/article/comment/366/0001067701 \n",
      "https://n.news.naver.com/mnews/article/092/0002369863 K푸드에 닥친 '관세 쇼크'…삼양·LG생건 등 더 걱정\n",
      "https://n.news.naver.com/mnews/article/comment/092/0002369863 \n",
      "https://n.news.naver.com/mnews/article/009/0005472991 사흘간 비행기 5대 띄워 … 애플, 중국·인도産 아이폰 긴급수송\n",
      "https://n.news.naver.com/mnews/article/comment/009/0005472991 \n",
      "https://n.news.naver.com/mnews/article/584/0000031792 DNA까지 침투…나노플라스틱 생성 원리 최초 규명\n",
      "https://n.news.naver.com/mnews/article/comment/584/0000031792 \n",
      "https://n.news.naver.com/mnews/article/009/0005472950 옷장 비췄더니 AI가 \"이 옷 입으세요\"\n",
      "https://n.news.naver.com/mnews/article/comment/009/0005472950 \n",
      "https://n.news.naver.com/mnews/article/081/0003531813 美 스탠퍼드대 ‘AI 보고서’ 선정된 유일한 한국 모델은?\n",
      "https://n.news.naver.com/mnews/article/comment/081/0003531813 \n",
      "https://n.news.naver.com/mnews/article/366/0001067696 의협, “내년 의대 정원 3058명으로”…정부·국회에 대화 요구도\n",
      "https://n.news.naver.com/mnews/article/comment/366/0001067696 \n",
      "https://n.news.naver.com/mnews/article/092/0002369861 BBQ, 법정관리 '위메프' 품을까...\"인수 의향서 제출\"\n",
      "https://n.news.naver.com/mnews/article/comment/092/0002369861 \n",
      "https://n.news.naver.com/mnews/article/138/0002194290 키움증권 ‘전산 먹통’ 논란…  결국 다우기술로 불똥튀나\n",
      "https://n.news.naver.com/mnews/article/comment/138/0002194290 \n",
      "https://n.news.naver.com/mnews/article/009/0005472938 삼성이 찜한 유럽 바이오벤처, 日 다이호가 인수\n",
      "https://n.news.naver.com/mnews/article/comment/009/0005472938 \n",
      "https://n.news.naver.com/mnews/article/009/0005472935 \"기존 약물 새 쓰임새, AI로 찾아냅니다\"\n",
      "https://n.news.naver.com/mnews/article/comment/009/0005472935 \n",
      "https://n.news.naver.com/mnews/article/029/0002946759 `한국계 우주비행사` 조니 김, 러 우주선 타고 국제우주정거장 `발사`\n",
      "https://n.news.naver.com/mnews/article/comment/029/0002946759 \n",
      "https://n.news.naver.com/mnews/article/138/0002194287 [DD퇴근길] '갤럭시S25' 통했나?…삼성전자, 1Q 어닝서프라이즈\n",
      "https://n.news.naver.com/mnews/article/comment/138/0002194287 \n"
     ]
    }
   ],
   "source": [
    "# IT/과학 뉴스 \n",
    "req_param = {\n",
    "    'sid': 105\n",
    "}\n",
    "# \n",
    "url = 'https://news.naver.com/section/{sid}'.format(**req_param)\n",
    "print(url)\n",
    "\n",
    "#url2 = \"https://news.naver.com/section/105\"\n",
    "# 요청 헤더 설정 : 브라우저 정보\n",
    "req_header = {\n",
    "    'user-agent' : 'Mozilla/5.0 (Windows NT 10.0; Win64; x64) AppleWebKit/537.36 (KHTML, like Gecko) Chrome/135.0.0.0 Safari/537.36'\n",
    "    \n",
    "}\n",
    "\n",
    "# requests 의 get() 함수 호출하기 \n",
    "res = req.get(url,headers=req_header)\n",
    "print(res)\n",
    "print(type(res))\n",
    "print(res.status_code, res.ok) \n",
    "\n",
    "# 응답(response)이 OK 이면\n",
    "if res.ok : \n",
    "\n",
    "    # 응답 (response)에서 text 추출 - source 보기 \n",
    "    html = res.text\n",
    "    #print(html)\n",
    "\n",
    "    # BeautifulSoup 객체 생성  \n",
    "    soup = BeautifulSoup(html, 'html.parser')\n",
    "    #print(soup)\n",
    "    # CSS 선택자\n",
    "    #<div class= \"sa_text\"><a></a></div>\n",
    "    print(len(soup.select(\"div.sa_text a[href *='mnews/article']\")))\n",
    "\n",
    "    # print(soup.select(\"div.sa_text a[href*='mnews/article']\"))\n",
    "    a_tag_list = soup.select(\"div.sa_text a[href *='mnews/article']\")\n",
    "    print(type(a_tag_list)) # [<a href=\"http://\">뉴스제목</a>]ResultSet객체, <a></a>: Tag 객체 \n",
    "    for a_tag in a_tag_list:\n",
    "        #print(type(a_tag))\n",
    "        title = a_tag.text.strip()\n",
    "        #href 속성의 값을 가져오기\n",
    "        link = a_tag['href']\n",
    "        print(link, title)\n",
    "\n",
    "\n",
    "    # <a> 태그 리스트 순회하기  `  \n",
    "else: \n",
    "    # 응답(response)이 Error 이면 status code 출력 \n",
    "    print(f'Error code = {res.status_code}')   \n",
    "\n"
   ]
  },
  {
   "cell_type": "markdown",
   "id": "45640860-a449-4285-90d7-5f300292b461",
   "metadata": {},
   "source": [
    "### 1.1 뉴스제목 추출하는 함수 선언하기"
   ]
  },
  {
   "cell_type": "code",
   "execution_count": 43,
   "id": "9f2e4ef8",
   "metadata": {},
   "outputs": [
    {
     "name": "stdout",
     "output_type": "stream",
     "text": [
      "=====> https://news.naver.com/section/101 경제 뉴스 <=====\n",
      "<Response [200]>\n",
      "<class 'requests.models.Response'>\n",
      "200 True\n",
      "92\n",
      "<class 'bs4.element.ResultSet'>\n",
      "https://n.news.naver.com/mnews/article/001/0015317977 원/달러 환율 금융위기 후 최고 수준…증시는 소폭 반등\n",
      "https://n.news.naver.com/mnews/article/comment/001/0015317977 \n",
      "https://n.news.naver.com/mnews/article/422/0000728881 최상목 \"다음주 초 10조원 추경안 발표…위기 대응 늦출 수 없어\"\n",
      "https://n.news.naver.com/mnews/article/comment/422/0000728881 \n",
      "https://n.news.naver.com/mnews/article/005/0001768622 대출 연간 이자, 앞으로 원금 초과시 대부계약 무효\n",
      "https://n.news.naver.com/mnews/article/comment/005/0001768622 \n",
      "https://n.news.naver.com/mnews/article/277/0005574821 SK그룹 'SK실트론' 한앤컴퍼니에 매각 타진\n",
      "https://n.news.naver.com/mnews/article/comment/277/0005574821 \n",
      "https://n.news.naver.com/mnews/article/015/0005116498 \"전력요금이 이상하네\"…한전, 고독사 위기 12명 살린 비결\n",
      "https://n.news.naver.com/mnews/article/comment/015/0005116498 \n",
      "https://n.news.naver.com/mnews/article/020/0003626745 삼성전자, 1분기 영업익 6.6조…악재 속 ‘갤S25’가 실적 이끌어\n",
      "https://n.news.naver.com/mnews/article/comment/020/0003626745 \n",
      "https://n.news.naver.com/mnews/article/081/0003531801 취업 준비 안하는 청년·단기근로자·장기실업자 증가…“노동력 유휴화 심각”\n",
      "https://n.news.naver.com/mnews/article/comment/081/0003531801 \n",
      "https://n.news.naver.com/mnews/article/015/0005116761 美 관세로 타격받은 기업에…우리금융, 10.2조 금융지원\n",
      "https://n.news.naver.com/mnews/article/comment/015/0005116761 \n",
      "https://n.news.naver.com/mnews/article/008/0005177494 식약처, 녹십자 탄저백신 '배리트락스' 허가…\"생물테러 선제대응\"\n",
      "https://n.news.naver.com/mnews/article/comment/008/0005177494 \n",
      "https://n.news.naver.com/mnews/article/018/0005982347 전동카트 대여업체들 살펴보니…안전관리 '낙제점'\n",
      "https://n.news.naver.com/mnews/article/comment/018/0005982347 \n",
      "https://n.news.naver.com/mnews/article/025/0003432890 관세 최고 104% 트럼프, 대중 위협…중 “단호히 반격”\n",
      "https://n.news.naver.com/mnews/article/comment/025/0003432890 \n",
      "https://n.news.naver.com/mnews/article/025/0003432887 “전세계가 미국에 바가지”…트럼프의 관세책사 나바로\n",
      "https://n.news.naver.com/mnews/article/comment/025/0003432887 \n",
      "https://n.news.naver.com/mnews/article/005/0001768628 한발 물러선 한화에어로… 유증 규모 3.6조→2.3조로 줄인다\n",
      "https://n.news.naver.com/mnews/article/comment/005/0001768628 \n",
      "https://n.news.naver.com/mnews/article/011/0004471798 5조 몸값 실트론 SK실트론 매물로…한앤컴퍼니와 논의 중 [시그널]\n",
      "https://n.news.naver.com/mnews/article/comment/011/0004471798 \n",
      "https://n.news.naver.com/mnews/article/005/0001768627 삼성전자, 1Q 갤S25 덕에 웃었지만 … 2Q는 쉽지 않다\n",
      "https://n.news.naver.com/mnews/article/comment/005/0001768627 \n",
      "https://n.news.naver.com/mnews/article/023/0003898379 “美증시, 20% 더 빠질수도… 장기적으론 지금이 매수 기회”\n",
      "https://n.news.naver.com/mnews/article/comment/023/0003898379 \n",
      "https://n.news.naver.com/mnews/article/023/0003898374 방송업계 자체 콘텐츠 OTT에 대방출… 수익 확보 나선다\n",
      "https://n.news.naver.com/mnews/article/comment/023/0003898374 \n",
      "https://n.news.naver.com/mnews/article/023/0003898363 한화에어로 유상증자, 3.6조→2.3조로 축소\n",
      "https://n.news.naver.com/mnews/article/comment/023/0003898363 \n",
      "https://n.news.naver.com/mnews/article/005/0001768615 혼돈의 애플… ‘관세 전쟁’ 최대 피해자?\n",
      "https://n.news.naver.com/mnews/article/comment/005/0001768615 \n",
      "https://n.news.naver.com/mnews/article/011/0004471796 SK, 실트론 매각한다…카카오는 엔터 매각 추진[시그널]\n",
      "https://n.news.naver.com/mnews/article/comment/011/0004471796 \n",
      "https://n.news.naver.com/mnews/article/005/0001768608 SK, 알짜 계열사 SK실트론 경영권 매각 검토\n",
      "https://n.news.naver.com/mnews/article/comment/005/0001768608 \n",
      "https://n.news.naver.com/mnews/article/005/0001768606 수소경제 ‘주인공’ 그린수소 시장… 중국에 잠식 우려\n",
      "https://n.news.naver.com/mnews/article/comment/005/0001768606 \n",
      "https://n.news.naver.com/mnews/article/005/0001768602 “폭락장 탈출, 때는 늦었다… 현금 쥐고 관세협상 기다려라”\n",
      "https://n.news.naver.com/mnews/article/comment/005/0001768602 \n",
      "https://n.news.naver.com/mnews/article/001/0015318639 뉴욕증시, 상호관세 발효 D-1·폭락장 딛고 일제히 급반등 출발\n",
      "https://n.news.naver.com/mnews/article/comment/001/0015318639 \n",
      "https://n.news.naver.com/mnews/article/018/0005982764 트럼프, 사실상 韓방위비 재협상 제기…'원스톱' 포괄협상 제안(종합)\n",
      "https://n.news.naver.com/mnews/article/comment/018/0005982764 \n",
      "https://n.news.naver.com/mnews/article/629/0000380357 연예인 따라서 꼬마빌딩 샀다가...[김원장의 경제학전]\n",
      "https://n.news.naver.com/mnews/article/comment/629/0000380357 \n",
      "https://n.news.naver.com/mnews/article/629/0000380352 대선 정국에 멈춰선 산업은행 부산 이전, 노조 반발 속 흐지부지되나\n",
      "https://n.news.naver.com/mnews/article/comment/629/0000380352 \n",
      "https://n.news.naver.com/mnews/article/025/0003432837 선방한 삼성전자 매출 79조, 이익 6.6조…1분기 예상치 웃돌아\n",
      "https://n.news.naver.com/mnews/article/comment/025/0003432837 \n",
      "https://n.news.naver.com/mnews/article/025/0003432828 한화에어로 유상증자 3.6조→2.3조로…축소분은 3자 배정 검토\n",
      "https://n.news.naver.com/mnews/article/comment/025/0003432828 \n",
      "https://n.news.naver.com/mnews/article/243/0000076019 홍상수·김민희, 불륜 중 ‘득남’…혼외자 호적 '난제' 남았다\n",
      "https://n.news.naver.com/mnews/article/comment/243/0000076019 \n",
      "https://n.news.naver.com/mnews/article/277/0005574869 뉴욕증시, 트럼프 관세 협상 낙관론에 급등…나스닥 4.2% ↑\n",
      "https://n.news.naver.com/mnews/article/comment/277/0005574869 \n",
      "https://n.news.naver.com/mnews/article/293/0000065908 트럼프 \"韓과 통화…협상 전망 좋아 보인다\"\n",
      "https://n.news.naver.com/mnews/article/comment/293/0000065908 \n",
      "https://n.news.naver.com/mnews/article/015/0005116790 관세협상 소식에…美증시, 2년여 만에 최대 상승 출발\n",
      "https://n.news.naver.com/mnews/article/comment/015/0005116790 \n",
      "https://n.news.naver.com/mnews/article/138/0002194293 오스템임플란트 순익 급감 불구 ‘1천억 배당’ 논란…  MBK가 세운 ‘덴티스트리’, 9백억 수령\n",
      "https://n.news.naver.com/mnews/article/comment/138/0002194293 \n",
      "https://n.news.naver.com/mnews/article/009/0005473111 “우리도 강남입니다”...‘상대적’ 소외받았던 이곳에서 재건축 봄바람\n",
      "https://n.news.naver.com/mnews/article/comment/009/0005473111 \n",
      "https://n.news.naver.com/mnews/article/009/0005473108 따뜻한 봄일지, 추운 겨울일지...엇갈리는 반도체 업황, 트럼프에 달렸다\n",
      "https://n.news.naver.com/mnews/article/comment/009/0005473108 \n",
      "https://n.news.naver.com/mnews/article/374/0000434086 韓대행-트럼프, \"조선·LNG 논의\"...방위비 재협상 시사\n",
      "https://n.news.naver.com/mnews/article/comment/374/0000434086 \n",
      "https://n.news.naver.com/mnews/article/015/0005116780 키뱅크 \"AMD, AI칩 입지 축소 위기\"…'동일비중' 하향\n",
      "https://n.news.naver.com/mnews/article/comment/015/0005116780 \n",
      "https://n.news.naver.com/mnews/article/009/0005473101 소액주주 달래기 나선 한화...오너家 유상증자 할인은 없다\n",
      "https://n.news.naver.com/mnews/article/comment/009/0005473101 \n",
      "https://n.news.naver.com/mnews/article/009/0005473099 “돈 풀면서 리스크도 관리하라고?”…은행들, 아슬아슬 ‘대출 곡예’ 시작되나\n",
      "https://n.news.naver.com/mnews/article/comment/009/0005473099 \n",
      "https://n.news.naver.com/mnews/article/009/0005473098 “50만원 오르면 아이폰 누가 사”...트럼프 관세에 머리 싸맨 애플, 비행기 5대 띄운 이유는?\n",
      "https://n.news.naver.com/mnews/article/comment/009/0005473098 \n",
      "https://n.news.naver.com/mnews/article/056/0011927669 토허제로 거래량 급감…일부 ‘신고가’ 속 ‘관망’\n",
      "https://n.news.naver.com/mnews/article/comment/056/0011927669 \n",
      "https://n.news.naver.com/mnews/article/448/0000519348 조기 대선에 세종 아파트값 2억 '껑충'…\"누가 되든 천도\"\n",
      "https://n.news.naver.com/mnews/article/comment/448/0000519348 \n",
      "https://n.news.naver.com/mnews/article/015/0005116770 트럼프 관세 후 \"브라질·인도·터키·이집트 등 상대적 수혜\"\n",
      "https://n.news.naver.com/mnews/article/comment/015/0005116770 \n",
      "https://n.news.naver.com/mnews/article/009/0005473084 “7월에 진짜 큰일날 판”...또 무너진 건설사, 충북 1위 대흥건설 법정관리\n",
      "https://n.news.naver.com/mnews/article/comment/009/0005473084 \n",
      "https://n.news.naver.com/mnews/article/011/0004471768 SK그룹, 3조대 실트론 지분 매각 검토\n",
      "https://n.news.naver.com/mnews/article/comment/011/0004471768 \n"
     ]
    }
   ],
   "source": [
    "import requests\n",
    "from bs4 import BeautifulSoup\n",
    "\n",
    "section_dict = {\n",
    "    100: \"정치\",\n",
    "    101: \"경제\",\n",
    "    102: \"사회\",\n",
    "    103: \"생활/문화\",\n",
    "    104: \"세계\",\n",
    "    105: \"IT/과학\",\n",
    "}\n",
    "\n",
    "\n",
    "def print_news(sid):  # print_new(103,'생활/문화')\n",
    "    section = section_dict[sid]\n",
    "\n",
    "    #\n",
    "    url = f\"https://news.naver.com/section/{sid}\"\n",
    "    print(f\"=====> {url} {section} 뉴스 <=====\")\n",
    "\n",
    "    req_header = {\n",
    "        \"user-agent\": \"Mozilla/5.0 (Windows NT 10.0; Win64; x64) AppleWebKit/537.36 (KHTML, like Gecko) Chrome/135.0.0.0 Safari/537.36\"\n",
    "    }\n",
    "\n",
    "\n",
    "    # requests 의 get() 함수 호출하기\n",
    "    res = req.get(url, headers=req_header)\n",
    "    print(res)\n",
    "    print(type(res))\n",
    "    print(res.status_code, res.ok)\n",
    "    \n",
    "    # 응답(response)이 OK 이면\n",
    "    if res.ok : \n",
    "\n",
    "        # 응답 (response)에서 text 추출 - source 보기 \n",
    "        html = res.text\n",
    "        #print(html)\n",
    "\n",
    "        # BeautifulSoup 객체 생성  \n",
    "        soup = BeautifulSoup(html, 'html.parser')\n",
    "        #print(soup)\n",
    "        # CSS 선택자\n",
    "        #<div class= \"sa_text\"><a></a></div>\n",
    "        print(len(soup.select(\"div.sa_text a[href *='mnews/article']\")))\n",
    "\n",
    "        # print(soup.select(\"div.sa_text a[href*='mnews/article']\"))\n",
    "        a_tag_list = soup.select(\"div.sa_text a[href *='mnews/article']\")\n",
    "        print(type(a_tag_list)) # [<a href=\"http://\">뉴스제목</a>]ResultSet객체, <a></a>: Tag 객체 \n",
    "        for a_tag in a_tag_list:\n",
    "            #print(type(a_tag))\n",
    "            title = a_tag.text.strip()\n",
    "            #href 속성의 값을 가져오기\n",
    "            link = a_tag['href']\n",
    "            print(link, title)\n",
    "\n",
    "\n",
    "        # <a> 태그 리스트 순회하기  `  \n",
    "    else: \n",
    "        # 응답(response)이 Error 이면 status code 출력 \n",
    "        print(f'Error code = {res.status_code}')   \n",
    "\n",
    "\n",
    "    \n",
    "#함수 호출\n",
    "print_news(101)"
   ]
  },
  {
   "cell_type": "markdown",
   "id": "323196dc",
   "metadata": {},
   "source": [
    "### 2. Image 다운로드\n",
    "* referer 요청 헤더를 반드시 설정해야 한다."
   ]
  },
  {
   "cell_type": "code",
   "execution_count": null,
   "id": "c72d6cb1",
   "metadata": {},
   "outputs": [
    {
     "name": "stdout",
     "output_type": "stream",
     "text": [
      "200\n",
      "writing to 20220804112251_d97bd1e1b38f0cd022e4e3639d2926b3_IMAG01_1.jpg(299,319 bytes)\n",
      "200\n",
      "writing to 20220804112251_d97bd1e1b38f0cd022e4e3639d2926b3_IMAG01_2.jpg(163,333 bytes)\n",
      "200\n",
      "writing to 20220804112251_d97bd1e1b38f0cd022e4e3639d2926b3_IMAG01_3.jpg(182,530 bytes)\n"
     ]
    }
   ],
   "source": [
    "import requests\n",
    "import os\n",
    "\n",
    "req_header = {\n",
    "    'referer':''\n",
    "}\n",
    "\n",
    "img_urls = [\n",
    "    'https://image-comic.pstatic.net/webtoon/798173/5/20220804112251_d97bd1e1b38f0cd022e4e3639d2926b3_IMAG01_1.jpg',\n",
    "    'https://image-comic.pstatic.net/webtoon/798173/5/20220804112251_d97bd1e1b38f0cd022e4e3639d2926b3_IMAG01_2.jpg',\n",
    "    'https://image-comic.pstatic.net/webtoon/798173/5/20220804112251_d97bd1e1b38f0cd022e4e3639d2926b3_IMAG01_3.jpg'\n",
    "]\n",
    "\n",
    "for img_url in img_urls:\n",
    "    pass\n",
    "    # requests 의 get(url, headers) 함수 호출하기 \n",
    "        \n",
    "        # binary 응답 데이터 가져오기\n",
    "        \n",
    "        # url에서 파일명만 추출하기\n",
    "        \n",
    "        # binday data를 file에 write하기\n"
   ]
  },
  {
   "cell_type": "markdown",
   "id": "e8b00a04",
   "metadata": {},
   "source": [
    "* 현재 요청된 페이지의 image 모두 다운로드 해보기"
   ]
  },
  {
   "cell_type": "code",
   "execution_count": null,
   "id": "b30f7bf5",
   "metadata": {},
   "outputs": [],
   "source": []
  },
  {
   "cell_type": "markdown",
   "id": "2ac9f5f9",
   "metadata": {},
   "source": [
    "### 3. 파일 업로드 하기\n",
    "* http://httpbin.org/post 업로드 요청을 할 수 있는 url"
   ]
  },
  {
   "cell_type": "code",
   "execution_count": null,
   "id": "04da4790",
   "metadata": {},
   "outputs": [
    {
     "name": "stdout",
     "output_type": "stream",
     "text": [
      "200\n"
     ]
    }
   ],
   "source": [
    "import requests\n",
    "\n",
    "upload_files = {\n",
    "    \n",
    "}\n",
    "#print(upload_files)\n",
    "\n",
    "url = 'http://httpbin.org/post'\n",
    "# file 업로드 하려면 requests의 post 함수에 files 속성을 사용합니다.\n",
    "\n"
   ]
  },
  {
   "cell_type": "markdown",
   "id": "7ad65f12",
   "metadata": {},
   "source": [
    "### 4. 캡챠(이미지) API 호출하기\n",
    "* urllib 사용\n",
    "* 1. 캡차 키 발급 요청\n",
    "  2. 캡차 이미지 요청\n",
    "  3. 사용자 입력값 검증 요청"
   ]
  },
  {
   "cell_type": "code",
   "execution_count": 2,
   "id": "bc4ae360-e772-4873-8642-d3494edd34e1",
   "metadata": {},
   "outputs": [],
   "source": [
    "# 캡차 키 발급 요청\n"
   ]
  },
  {
   "cell_type": "code",
   "execution_count": 1,
   "id": "7b95b6a0-c218-4792-82a6-da4d80872071",
   "metadata": {},
   "outputs": [],
   "source": [
    "# 캡차 이미지 요청\n"
   ]
  },
  {
   "cell_type": "code",
   "execution_count": 3,
   "id": "a79076af-2cd0-4de2-8301-316b9130c55e",
   "metadata": {},
   "outputs": [],
   "source": [
    "#  사용자 입력값 검증 요청\n",
    "\n"
   ]
  },
  {
   "cell_type": "markdown",
   "id": "b7d984a6",
   "metadata": {},
   "source": [
    "* requests를 사용하는 코드로 변경하기\n",
    "* [requests docs](https://requests.readthedocs.io/en/latest/user/quickstart/)"
   ]
  },
  {
   "cell_type": "code",
   "execution_count": null,
   "id": "727b427b",
   "metadata": {
    "scrolled": true
   },
   "outputs": [
    {
     "name": "stdout",
     "output_type": "stream",
     "text": [
      "Error Code: 403\n"
     ]
    }
   ],
   "source": [
    "# 사용자 입력값 검증 요청\n",
    "\n"
   ]
  },
  {
   "cell_type": "markdown",
   "id": "d5e1179a",
   "metadata": {},
   "source": [
    "### 5. 블로그 검색하기"
   ]
  },
  {
   "cell_type": "code",
   "execution_count": null,
   "id": "877d0c7f",
   "metadata": {},
   "outputs": [],
   "source": [
    "import requests\n",
    "import pprint\n",
    "\n",
    "headers = {\n",
    "    'X-Naver-Client-Id': '',\n",
    "    'X-Naver-Client-Secret': '',\n",
    "}\n",
    "\n",
    "payload = {\n",
    "    'query': '파이썬',\n",
    "    'display': 100,\n",
    "    'sort': 'sim'\n",
    "}\n",
    "\n",
    "url = 'https://openapi.naver.com/v1/search/blog.json'\n",
    "\n",
    "\n",
    "# requests get(url, params, headers) 요청 \n",
    "\n",
    "# json() 함수로 응답 결과 가져오오기\n",
    "# 'title' , 'bloggername' , 'description' , 'bloggerlink' , 'link'\n",
    "\n",
    "# 'data/nhnblog.txt' 파일 생성하기\n"
   ]
  }
 ],
 "metadata": {
  "kernelspec": {
   "display_name": "base",
   "language": "python",
   "name": "python3"
  },
  "language_info": {
   "codemirror_mode": {
    "name": "ipython",
    "version": 3
   },
   "file_extension": ".py",
   "mimetype": "text/x-python",
   "name": "python",
   "nbconvert_exporter": "python",
   "pygments_lexer": "ipython3",
   "version": "3.12.7"
  }
 },
 "nbformat": 4,
 "nbformat_minor": 5
}
